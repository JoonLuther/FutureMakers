{
  "nbformat": 4,
  "nbformat_minor": 0,
  "metadata": {
    "colab": {
      "name": "Housing Price Prediction (Day 14).ipynb",
      "provenance": []
    },
    "kernelspec": {
      "name": "python3",
      "display_name": "Python 3"
    },
    "language_info": {
      "name": "python"
    }
  },
  "cells": [
    {
      "cell_type": "code",
      "metadata": {
        "colab": {
          "base_uri": "https://localhost:8080/",
          "height": 442
        },
        "id": "cmBTdKxb9sXB",
        "outputId": "f37d2f5d-fb96-4348-b5e3-2332289956ce"
      },
      "source": [
        "import pandas as pd\n",
        "\n",
        "df = pd.read_csv('input/housepricedata.csv')\n",
        "df"
      ],
      "execution_count": 21,
      "outputs": [
        {
          "output_type": "execute_result",
          "data": {
            "text/html": [
              "<div>\n",
              "<style scoped>\n",
              "    .dataframe tbody tr th:only-of-type {\n",
              "        vertical-align: middle;\n",
              "    }\n",
              "\n",
              "    .dataframe tbody tr th {\n",
              "        vertical-align: top;\n",
              "    }\n",
              "\n",
              "    .dataframe thead th {\n",
              "        text-align: right;\n",
              "    }\n",
              "</style>\n",
              "<table border=\"1\" class=\"dataframe\">\n",
              "  <thead>\n",
              "    <tr style=\"text-align: right;\">\n",
              "      <th></th>\n",
              "      <th>LotArea</th>\n",
              "      <th>OverallQual</th>\n",
              "      <th>OverallCond</th>\n",
              "      <th>TotalBsmtSF</th>\n",
              "      <th>FullBath</th>\n",
              "      <th>HalfBath</th>\n",
              "      <th>BedroomAbvGr</th>\n",
              "      <th>TotRmsAbvGrd</th>\n",
              "      <th>Fireplaces</th>\n",
              "      <th>GarageArea</th>\n",
              "      <th>AboveMedianPrice</th>\n",
              "    </tr>\n",
              "  </thead>\n",
              "  <tbody>\n",
              "    <tr>\n",
              "      <th>0</th>\n",
              "      <td>8450</td>\n",
              "      <td>7</td>\n",
              "      <td>5</td>\n",
              "      <td>856</td>\n",
              "      <td>2</td>\n",
              "      <td>1</td>\n",
              "      <td>3</td>\n",
              "      <td>8</td>\n",
              "      <td>0</td>\n",
              "      <td>548</td>\n",
              "      <td>1</td>\n",
              "    </tr>\n",
              "    <tr>\n",
              "      <th>1</th>\n",
              "      <td>9600</td>\n",
              "      <td>6</td>\n",
              "      <td>8</td>\n",
              "      <td>1262</td>\n",
              "      <td>2</td>\n",
              "      <td>0</td>\n",
              "      <td>3</td>\n",
              "      <td>6</td>\n",
              "      <td>1</td>\n",
              "      <td>460</td>\n",
              "      <td>1</td>\n",
              "    </tr>\n",
              "    <tr>\n",
              "      <th>2</th>\n",
              "      <td>11250</td>\n",
              "      <td>7</td>\n",
              "      <td>5</td>\n",
              "      <td>920</td>\n",
              "      <td>2</td>\n",
              "      <td>1</td>\n",
              "      <td>3</td>\n",
              "      <td>6</td>\n",
              "      <td>1</td>\n",
              "      <td>608</td>\n",
              "      <td>1</td>\n",
              "    </tr>\n",
              "    <tr>\n",
              "      <th>3</th>\n",
              "      <td>9550</td>\n",
              "      <td>7</td>\n",
              "      <td>5</td>\n",
              "      <td>756</td>\n",
              "      <td>1</td>\n",
              "      <td>0</td>\n",
              "      <td>3</td>\n",
              "      <td>7</td>\n",
              "      <td>1</td>\n",
              "      <td>642</td>\n",
              "      <td>0</td>\n",
              "    </tr>\n",
              "    <tr>\n",
              "      <th>4</th>\n",
              "      <td>14260</td>\n",
              "      <td>8</td>\n",
              "      <td>5</td>\n",
              "      <td>1145</td>\n",
              "      <td>2</td>\n",
              "      <td>1</td>\n",
              "      <td>4</td>\n",
              "      <td>9</td>\n",
              "      <td>1</td>\n",
              "      <td>836</td>\n",
              "      <td>1</td>\n",
              "    </tr>\n",
              "    <tr>\n",
              "      <th>...</th>\n",
              "      <td>...</td>\n",
              "      <td>...</td>\n",
              "      <td>...</td>\n",
              "      <td>...</td>\n",
              "      <td>...</td>\n",
              "      <td>...</td>\n",
              "      <td>...</td>\n",
              "      <td>...</td>\n",
              "      <td>...</td>\n",
              "      <td>...</td>\n",
              "      <td>...</td>\n",
              "    </tr>\n",
              "    <tr>\n",
              "      <th>1455</th>\n",
              "      <td>7917</td>\n",
              "      <td>6</td>\n",
              "      <td>5</td>\n",
              "      <td>953</td>\n",
              "      <td>2</td>\n",
              "      <td>1</td>\n",
              "      <td>3</td>\n",
              "      <td>7</td>\n",
              "      <td>1</td>\n",
              "      <td>460</td>\n",
              "      <td>1</td>\n",
              "    </tr>\n",
              "    <tr>\n",
              "      <th>1456</th>\n",
              "      <td>13175</td>\n",
              "      <td>6</td>\n",
              "      <td>6</td>\n",
              "      <td>1542</td>\n",
              "      <td>2</td>\n",
              "      <td>0</td>\n",
              "      <td>3</td>\n",
              "      <td>7</td>\n",
              "      <td>2</td>\n",
              "      <td>500</td>\n",
              "      <td>1</td>\n",
              "    </tr>\n",
              "    <tr>\n",
              "      <th>1457</th>\n",
              "      <td>9042</td>\n",
              "      <td>7</td>\n",
              "      <td>9</td>\n",
              "      <td>1152</td>\n",
              "      <td>2</td>\n",
              "      <td>0</td>\n",
              "      <td>4</td>\n",
              "      <td>9</td>\n",
              "      <td>2</td>\n",
              "      <td>252</td>\n",
              "      <td>1</td>\n",
              "    </tr>\n",
              "    <tr>\n",
              "      <th>1458</th>\n",
              "      <td>9717</td>\n",
              "      <td>5</td>\n",
              "      <td>6</td>\n",
              "      <td>1078</td>\n",
              "      <td>1</td>\n",
              "      <td>0</td>\n",
              "      <td>2</td>\n",
              "      <td>5</td>\n",
              "      <td>0</td>\n",
              "      <td>240</td>\n",
              "      <td>0</td>\n",
              "    </tr>\n",
              "    <tr>\n",
              "      <th>1459</th>\n",
              "      <td>9937</td>\n",
              "      <td>5</td>\n",
              "      <td>6</td>\n",
              "      <td>1256</td>\n",
              "      <td>1</td>\n",
              "      <td>1</td>\n",
              "      <td>3</td>\n",
              "      <td>6</td>\n",
              "      <td>0</td>\n",
              "      <td>276</td>\n",
              "      <td>0</td>\n",
              "    </tr>\n",
              "  </tbody>\n",
              "</table>\n",
              "<p>1460 rows × 11 columns</p>\n",
              "</div>"
            ],
            "text/plain": [
              "      LotArea  OverallQual  ...  GarageArea  AboveMedianPrice\n",
              "0        8450            7  ...         548                 1\n",
              "1        9600            6  ...         460                 1\n",
              "2       11250            7  ...         608                 1\n",
              "3        9550            7  ...         642                 0\n",
              "4       14260            8  ...         836                 1\n",
              "...       ...          ...  ...         ...               ...\n",
              "1455     7917            6  ...         460                 1\n",
              "1456    13175            6  ...         500                 1\n",
              "1457     9042            7  ...         252                 1\n",
              "1458     9717            5  ...         240                 0\n",
              "1459     9937            5  ...         276                 0\n",
              "\n",
              "[1460 rows x 11 columns]"
            ]
          },
          "metadata": {
            "tags": []
          },
          "execution_count": 21
        }
      ]
    },
    {
      "cell_type": "code",
      "metadata": {
        "colab": {
          "base_uri": "https://localhost:8080/"
        },
        "id": "n-BGx5rS-Y-r",
        "outputId": "4e7749c4-40da-47f2-d6c5-1e765d163132"
      },
      "source": [
        "dataset = df.values\n",
        "dataset"
      ],
      "execution_count": 22,
      "outputs": [
        {
          "output_type": "execute_result",
          "data": {
            "text/plain": [
              "array([[ 8450,     7,     5, ...,     0,   548,     1],\n",
              "       [ 9600,     6,     8, ...,     1,   460,     1],\n",
              "       [11250,     7,     5, ...,     1,   608,     1],\n",
              "       ...,\n",
              "       [ 9042,     7,     9, ...,     2,   252,     1],\n",
              "       [ 9717,     5,     6, ...,     0,   240,     0],\n",
              "       [ 9937,     5,     6, ...,     0,   276,     0]])"
            ]
          },
          "metadata": {
            "tags": []
          },
          "execution_count": 22
        }
      ]
    },
    {
      "cell_type": "code",
      "metadata": {
        "id": "12eirvbQ-hdH"
      },
      "source": [
        "X = dataset[:,0:10]\n",
        "Y = dataset[:,10]"
      ],
      "execution_count": 23,
      "outputs": []
    },
    {
      "cell_type": "code",
      "metadata": {
        "colab": {
          "base_uri": "https://localhost:8080/"
        },
        "id": "DKwluyV6-1WJ",
        "outputId": "68b31f30-0954-44e6-c2ae-a54b8b6d6c33"
      },
      "source": [
        "from sklearn import preprocessing\n",
        "\n",
        "min_max_scaler = preprocessing.MinMaxScaler()\n",
        "X_scale = min_max_scaler.fit_transform(X)\n",
        "X_scale"
      ],
      "execution_count": 24,
      "outputs": [
        {
          "output_type": "execute_result",
          "data": {
            "text/plain": [
              "array([[0.0334198 , 0.66666667, 0.5       , ..., 0.5       , 0.        ,\n",
              "        0.3864598 ],\n",
              "       [0.03879502, 0.55555556, 0.875     , ..., 0.33333333, 0.33333333,\n",
              "        0.32440056],\n",
              "       [0.04650728, 0.66666667, 0.5       , ..., 0.33333333, 0.33333333,\n",
              "        0.42877292],\n",
              "       ...,\n",
              "       [0.03618687, 0.66666667, 1.        , ..., 0.58333333, 0.66666667,\n",
              "        0.17771509],\n",
              "       [0.03934189, 0.44444444, 0.625     , ..., 0.25      , 0.        ,\n",
              "        0.16925247],\n",
              "       [0.04037019, 0.44444444, 0.625     , ..., 0.33333333, 0.        ,\n",
              "        0.19464034]])"
            ]
          },
          "metadata": {
            "tags": []
          },
          "execution_count": 24
        }
      ]
    },
    {
      "cell_type": "code",
      "metadata": {
        "colab": {
          "base_uri": "https://localhost:8080/"
        },
        "id": "5SZ_Nc2T_PMh",
        "outputId": "934f73e0-8c30-4f5e-a701-5794b9e784ee"
      },
      "source": [
        "from sklearn.model_selection import train_test_split\n",
        "\n",
        "#30% of overall dataset assigned to validation and test\n",
        "X_train, X_val_and_test, Y_train, Y_val_and_test = train_test_split(X_scale, Y, test_size=0.3)\n",
        "#50% split between validation and test data\n",
        "X_val, X_test, Y_val, Y_test = train_test_split(X_val_and_test, Y_val_and_test, test_size = 0.5)\n",
        "\n",
        "print(X_train.shape, X_val.shape, X_test.shape, Y_train.shape, Y_val.shape, Y_test.shape)"
      ],
      "execution_count": 25,
      "outputs": [
        {
          "output_type": "stream",
          "text": [
            "(1022, 10) (219, 10) (219, 10) (1022,) (219,) (219,)\n"
          ],
          "name": "stdout"
        }
      ]
    },
    {
      "cell_type": "code",
      "metadata": {
        "id": "bp7tiBzq_hsh"
      },
      "source": [
        "from keras.models import Sequential\n",
        "from keras.layers import Dense\n",
        "\n",
        "model = Sequential([\n",
        "  Dense(32, activation = 'relu', input_shape = (10,)),\n",
        "  Dense(32, activation = 'relu'),\n",
        "  Dense(1, activation = 'sigmoid'),\n",
        "])\n",
        "\n",
        "model.compile(optimizer = 'sgd', loss = 'binary_crossentropy', metrics = ['accuracy'])"
      ],
      "execution_count": 26,
      "outputs": []
    },
    {
      "cell_type": "code",
      "metadata": {
        "colab": {
          "base_uri": "https://localhost:8080/"
        },
        "id": "3Lag8Qf6A7Zl",
        "outputId": "e32b1fc3-4d46-42fe-f4f0-2ed03feadec0"
      },
      "source": [
        "hist = model.fit(X_train, Y_train, batch_size = 32, epochs = 100, validation_data = (X_val, Y_val))"
      ],
      "execution_count": 27,
      "outputs": [
        {
          "output_type": "stream",
          "text": [
            "Epoch 1/100\n",
            "32/32 [==============================] - 1s 16ms/step - loss: 0.6772 - accuracy: 0.5359 - val_loss: 0.6719 - val_accuracy: 0.5662\n",
            "Epoch 2/100\n",
            "32/32 [==============================] - 0s 2ms/step - loss: 0.6700 - accuracy: 0.5509 - val_loss: 0.6639 - val_accuracy: 0.6301\n",
            "Epoch 3/100\n",
            "32/32 [==============================] - 0s 2ms/step - loss: 0.6668 - accuracy: 0.6238 - val_loss: 0.6564 - val_accuracy: 0.6895\n",
            "Epoch 4/100\n",
            "32/32 [==============================] - 0s 2ms/step - loss: 0.6564 - accuracy: 0.6690 - val_loss: 0.6494 - val_accuracy: 0.7032\n",
            "Epoch 5/100\n",
            "32/32 [==============================] - 0s 2ms/step - loss: 0.6478 - accuracy: 0.7121 - val_loss: 0.6428 - val_accuracy: 0.7306\n",
            "Epoch 6/100\n",
            "32/32 [==============================] - 0s 2ms/step - loss: 0.6480 - accuracy: 0.7070 - val_loss: 0.6364 - val_accuracy: 0.7352\n",
            "Epoch 7/100\n",
            "32/32 [==============================] - 0s 2ms/step - loss: 0.6393 - accuracy: 0.7319 - val_loss: 0.6301 - val_accuracy: 0.7489\n",
            "Epoch 8/100\n",
            "32/32 [==============================] - 0s 3ms/step - loss: 0.6307 - accuracy: 0.7620 - val_loss: 0.6236 - val_accuracy: 0.7489\n",
            "Epoch 9/100\n",
            "32/32 [==============================] - 0s 2ms/step - loss: 0.6254 - accuracy: 0.7552 - val_loss: 0.6171 - val_accuracy: 0.7580\n",
            "Epoch 10/100\n",
            "32/32 [==============================] - 0s 2ms/step - loss: 0.6191 - accuracy: 0.7917 - val_loss: 0.6102 - val_accuracy: 0.7626\n",
            "Epoch 11/100\n",
            "32/32 [==============================] - 0s 2ms/step - loss: 0.6175 - accuracy: 0.7849 - val_loss: 0.6028 - val_accuracy: 0.7671\n",
            "Epoch 12/100\n",
            "32/32 [==============================] - 0s 2ms/step - loss: 0.6102 - accuracy: 0.7730 - val_loss: 0.5951 - val_accuracy: 0.7717\n",
            "Epoch 13/100\n",
            "32/32 [==============================] - 0s 3ms/step - loss: 0.5959 - accuracy: 0.8210 - val_loss: 0.5873 - val_accuracy: 0.7808\n",
            "Epoch 14/100\n",
            "32/32 [==============================] - 0s 2ms/step - loss: 0.5937 - accuracy: 0.8082 - val_loss: 0.5788 - val_accuracy: 0.7945\n",
            "Epoch 15/100\n",
            "32/32 [==============================] - 0s 2ms/step - loss: 0.5853 - accuracy: 0.8228 - val_loss: 0.5699 - val_accuracy: 0.7945\n",
            "Epoch 16/100\n",
            "32/32 [==============================] - 0s 2ms/step - loss: 0.5726 - accuracy: 0.8308 - val_loss: 0.5610 - val_accuracy: 0.8128\n",
            "Epoch 17/100\n",
            "32/32 [==============================] - 0s 2ms/step - loss: 0.5678 - accuracy: 0.8149 - val_loss: 0.5521 - val_accuracy: 0.8265\n",
            "Epoch 18/100\n",
            "32/32 [==============================] - 0s 2ms/step - loss: 0.5564 - accuracy: 0.8299 - val_loss: 0.5430 - val_accuracy: 0.8219\n",
            "Epoch 19/100\n",
            "32/32 [==============================] - 0s 2ms/step - loss: 0.5528 - accuracy: 0.8202 - val_loss: 0.5337 - val_accuracy: 0.8402\n",
            "Epoch 20/100\n",
            "32/32 [==============================] - 0s 2ms/step - loss: 0.5322 - accuracy: 0.8465 - val_loss: 0.5247 - val_accuracy: 0.8402\n",
            "Epoch 21/100\n",
            "32/32 [==============================] - 0s 2ms/step - loss: 0.5400 - accuracy: 0.8166 - val_loss: 0.5156 - val_accuracy: 0.8402\n",
            "Epoch 22/100\n",
            "32/32 [==============================] - 0s 3ms/step - loss: 0.5160 - accuracy: 0.8484 - val_loss: 0.5066 - val_accuracy: 0.8402\n",
            "Epoch 23/100\n",
            "32/32 [==============================] - 0s 2ms/step - loss: 0.5162 - accuracy: 0.8241 - val_loss: 0.4978 - val_accuracy: 0.8493\n",
            "Epoch 24/100\n",
            "32/32 [==============================] - 0s 2ms/step - loss: 0.5138 - accuracy: 0.8280 - val_loss: 0.4887 - val_accuracy: 0.8493\n",
            "Epoch 25/100\n",
            "32/32 [==============================] - 0s 2ms/step - loss: 0.4980 - accuracy: 0.8325 - val_loss: 0.4800 - val_accuracy: 0.8539\n",
            "Epoch 26/100\n",
            "32/32 [==============================] - 0s 2ms/step - loss: 0.4800 - accuracy: 0.8484 - val_loss: 0.4716 - val_accuracy: 0.8584\n",
            "Epoch 27/100\n",
            "32/32 [==============================] - 0s 2ms/step - loss: 0.4631 - accuracy: 0.8553 - val_loss: 0.4633 - val_accuracy: 0.8721\n",
            "Epoch 28/100\n",
            "32/32 [==============================] - 0s 2ms/step - loss: 0.4777 - accuracy: 0.8438 - val_loss: 0.4545 - val_accuracy: 0.8676\n",
            "Epoch 29/100\n",
            "32/32 [==============================] - 0s 2ms/step - loss: 0.4790 - accuracy: 0.8317 - val_loss: 0.4463 - val_accuracy: 0.8584\n",
            "Epoch 30/100\n",
            "32/32 [==============================] - 0s 2ms/step - loss: 0.4516 - accuracy: 0.8439 - val_loss: 0.4387 - val_accuracy: 0.8721\n",
            "Epoch 31/100\n",
            "32/32 [==============================] - 0s 2ms/step - loss: 0.4388 - accuracy: 0.8588 - val_loss: 0.4310 - val_accuracy: 0.8767\n",
            "Epoch 32/100\n",
            "32/32 [==============================] - 0s 2ms/step - loss: 0.4340 - accuracy: 0.8594 - val_loss: 0.4237 - val_accuracy: 0.8767\n",
            "Epoch 33/100\n",
            "32/32 [==============================] - 0s 2ms/step - loss: 0.4184 - accuracy: 0.8723 - val_loss: 0.4169 - val_accuracy: 0.8721\n",
            "Epoch 34/100\n",
            "32/32 [==============================] - 0s 2ms/step - loss: 0.4295 - accuracy: 0.8521 - val_loss: 0.4098 - val_accuracy: 0.8767\n",
            "Epoch 35/100\n",
            "32/32 [==============================] - 0s 3ms/step - loss: 0.4226 - accuracy: 0.8512 - val_loss: 0.4038 - val_accuracy: 0.8767\n",
            "Epoch 36/100\n",
            "32/32 [==============================] - 0s 2ms/step - loss: 0.4214 - accuracy: 0.8570 - val_loss: 0.3973 - val_accuracy: 0.8813\n",
            "Epoch 37/100\n",
            "32/32 [==============================] - 0s 2ms/step - loss: 0.4185 - accuracy: 0.8451 - val_loss: 0.3913 - val_accuracy: 0.8813\n",
            "Epoch 38/100\n",
            "32/32 [==============================] - 0s 2ms/step - loss: 0.4072 - accuracy: 0.8444 - val_loss: 0.3858 - val_accuracy: 0.8813\n",
            "Epoch 39/100\n",
            "32/32 [==============================] - 0s 2ms/step - loss: 0.4083 - accuracy: 0.8516 - val_loss: 0.3809 - val_accuracy: 0.8767\n",
            "Epoch 40/100\n",
            "32/32 [==============================] - 0s 3ms/step - loss: 0.4049 - accuracy: 0.8665 - val_loss: 0.3753 - val_accuracy: 0.8813\n",
            "Epoch 41/100\n",
            "32/32 [==============================] - 0s 2ms/step - loss: 0.3848 - accuracy: 0.8687 - val_loss: 0.3709 - val_accuracy: 0.8767\n",
            "Epoch 42/100\n",
            "32/32 [==============================] - 0s 2ms/step - loss: 0.3678 - accuracy: 0.8717 - val_loss: 0.3659 - val_accuracy: 0.8767\n",
            "Epoch 43/100\n",
            "32/32 [==============================] - 0s 2ms/step - loss: 0.3652 - accuracy: 0.8822 - val_loss: 0.3618 - val_accuracy: 0.8813\n",
            "Epoch 44/100\n",
            "32/32 [==============================] - 0s 2ms/step - loss: 0.3838 - accuracy: 0.8580 - val_loss: 0.3577 - val_accuracy: 0.8813\n",
            "Epoch 45/100\n",
            "32/32 [==============================] - 0s 2ms/step - loss: 0.3778 - accuracy: 0.8594 - val_loss: 0.3537 - val_accuracy: 0.8813\n",
            "Epoch 46/100\n",
            "32/32 [==============================] - 0s 2ms/step - loss: 0.3797 - accuracy: 0.8533 - val_loss: 0.3499 - val_accuracy: 0.8813\n",
            "Epoch 47/100\n",
            "32/32 [==============================] - 0s 2ms/step - loss: 0.3548 - accuracy: 0.8760 - val_loss: 0.3467 - val_accuracy: 0.8813\n",
            "Epoch 48/100\n",
            "32/32 [==============================] - 0s 2ms/step - loss: 0.3559 - accuracy: 0.8717 - val_loss: 0.3431 - val_accuracy: 0.8813\n",
            "Epoch 49/100\n",
            "32/32 [==============================] - 0s 2ms/step - loss: 0.3566 - accuracy: 0.8737 - val_loss: 0.3400 - val_accuracy: 0.8767\n",
            "Epoch 50/100\n",
            "32/32 [==============================] - 0s 3ms/step - loss: 0.3454 - accuracy: 0.8794 - val_loss: 0.3369 - val_accuracy: 0.8813\n",
            "Epoch 51/100\n",
            "32/32 [==============================] - 0s 2ms/step - loss: 0.3572 - accuracy: 0.8685 - val_loss: 0.3342 - val_accuracy: 0.8904\n",
            "Epoch 52/100\n",
            "32/32 [==============================] - 0s 2ms/step - loss: 0.3420 - accuracy: 0.8715 - val_loss: 0.3314 - val_accuracy: 0.8904\n",
            "Epoch 53/100\n",
            "32/32 [==============================] - 0s 2ms/step - loss: 0.3582 - accuracy: 0.8803 - val_loss: 0.3287 - val_accuracy: 0.8858\n",
            "Epoch 54/100\n",
            "32/32 [==============================] - 0s 2ms/step - loss: 0.3373 - accuracy: 0.8758 - val_loss: 0.3262 - val_accuracy: 0.8858\n",
            "Epoch 55/100\n",
            "32/32 [==============================] - 0s 2ms/step - loss: 0.3291 - accuracy: 0.8801 - val_loss: 0.3239 - val_accuracy: 0.8904\n",
            "Epoch 56/100\n",
            "32/32 [==============================] - 0s 2ms/step - loss: 0.3329 - accuracy: 0.8632 - val_loss: 0.3216 - val_accuracy: 0.8904\n",
            "Epoch 57/100\n",
            "32/32 [==============================] - 0s 2ms/step - loss: 0.3463 - accuracy: 0.8764 - val_loss: 0.3197 - val_accuracy: 0.8904\n",
            "Epoch 58/100\n",
            "32/32 [==============================] - 0s 3ms/step - loss: 0.3179 - accuracy: 0.8845 - val_loss: 0.3185 - val_accuracy: 0.8767\n",
            "Epoch 59/100\n",
            "32/32 [==============================] - 0s 2ms/step - loss: 0.3280 - accuracy: 0.8647 - val_loss: 0.3155 - val_accuracy: 0.8950\n",
            "Epoch 60/100\n",
            "32/32 [==============================] - 0s 2ms/step - loss: 0.3295 - accuracy: 0.8642 - val_loss: 0.3136 - val_accuracy: 0.8904\n",
            "Epoch 61/100\n",
            "32/32 [==============================] - 0s 3ms/step - loss: 0.3194 - accuracy: 0.8848 - val_loss: 0.3127 - val_accuracy: 0.8813\n",
            "Epoch 62/100\n",
            "32/32 [==============================] - 0s 2ms/step - loss: 0.3193 - accuracy: 0.8845 - val_loss: 0.3110 - val_accuracy: 0.8767\n",
            "Epoch 63/100\n",
            "32/32 [==============================] - 0s 2ms/step - loss: 0.3052 - accuracy: 0.8834 - val_loss: 0.3086 - val_accuracy: 0.8904\n",
            "Epoch 64/100\n",
            "32/32 [==============================] - 0s 2ms/step - loss: 0.3470 - accuracy: 0.8671 - val_loss: 0.3077 - val_accuracy: 0.8813\n",
            "Epoch 65/100\n",
            "32/32 [==============================] - 0s 2ms/step - loss: 0.3290 - accuracy: 0.8662 - val_loss: 0.3060 - val_accuracy: 0.8858\n",
            "Epoch 66/100\n",
            "32/32 [==============================] - 0s 2ms/step - loss: 0.3058 - accuracy: 0.8729 - val_loss: 0.3059 - val_accuracy: 0.8676\n",
            "Epoch 67/100\n",
            "32/32 [==============================] - 0s 2ms/step - loss: 0.3083 - accuracy: 0.8790 - val_loss: 0.3029 - val_accuracy: 0.8858\n",
            "Epoch 68/100\n",
            "32/32 [==============================] - 0s 2ms/step - loss: 0.3023 - accuracy: 0.8747 - val_loss: 0.3012 - val_accuracy: 0.8858\n",
            "Epoch 69/100\n",
            "32/32 [==============================] - 0s 2ms/step - loss: 0.3203 - accuracy: 0.8661 - val_loss: 0.3000 - val_accuracy: 0.8813\n",
            "Epoch 70/100\n",
            "32/32 [==============================] - 0s 2ms/step - loss: 0.2992 - accuracy: 0.8755 - val_loss: 0.2990 - val_accuracy: 0.8813\n",
            "Epoch 71/100\n",
            "32/32 [==============================] - 0s 2ms/step - loss: 0.3111 - accuracy: 0.8748 - val_loss: 0.2974 - val_accuracy: 0.8858\n",
            "Epoch 72/100\n",
            "32/32 [==============================] - 0s 3ms/step - loss: 0.3132 - accuracy: 0.8774 - val_loss: 0.2963 - val_accuracy: 0.8858\n",
            "Epoch 73/100\n",
            "32/32 [==============================] - 0s 2ms/step - loss: 0.2994 - accuracy: 0.8763 - val_loss: 0.2956 - val_accuracy: 0.8904\n",
            "Epoch 74/100\n",
            "32/32 [==============================] - 0s 2ms/step - loss: 0.2887 - accuracy: 0.8887 - val_loss: 0.2954 - val_accuracy: 0.8721\n",
            "Epoch 75/100\n",
            "32/32 [==============================] - 0s 2ms/step - loss: 0.3372 - accuracy: 0.8672 - val_loss: 0.2929 - val_accuracy: 0.8813\n",
            "Epoch 76/100\n",
            "32/32 [==============================] - 0s 3ms/step - loss: 0.2879 - accuracy: 0.8826 - val_loss: 0.2918 - val_accuracy: 0.8813\n",
            "Epoch 77/100\n",
            "32/32 [==============================] - 0s 2ms/step - loss: 0.3136 - accuracy: 0.8722 - val_loss: 0.2927 - val_accuracy: 0.8676\n",
            "Epoch 78/100\n",
            "32/32 [==============================] - 0s 2ms/step - loss: 0.2814 - accuracy: 0.8911 - val_loss: 0.2898 - val_accuracy: 0.8767\n",
            "Epoch 79/100\n",
            "32/32 [==============================] - 0s 2ms/step - loss: 0.2878 - accuracy: 0.8891 - val_loss: 0.2915 - val_accuracy: 0.8676\n",
            "Epoch 80/100\n",
            "32/32 [==============================] - 0s 2ms/step - loss: 0.2895 - accuracy: 0.8908 - val_loss: 0.2880 - val_accuracy: 0.8721\n",
            "Epoch 81/100\n",
            "32/32 [==============================] - 0s 2ms/step - loss: 0.3365 - accuracy: 0.8599 - val_loss: 0.2871 - val_accuracy: 0.8721\n",
            "Epoch 82/100\n",
            "32/32 [==============================] - 0s 2ms/step - loss: 0.2832 - accuracy: 0.8913 - val_loss: 0.2860 - val_accuracy: 0.8813\n",
            "Epoch 83/100\n",
            "32/32 [==============================] - 0s 2ms/step - loss: 0.2941 - accuracy: 0.8700 - val_loss: 0.2858 - val_accuracy: 0.8721\n",
            "Epoch 84/100\n",
            "32/32 [==============================] - 0s 2ms/step - loss: 0.3001 - accuracy: 0.8824 - val_loss: 0.2854 - val_accuracy: 0.8767\n",
            "Epoch 85/100\n",
            "32/32 [==============================] - 0s 2ms/step - loss: 0.2802 - accuracy: 0.8880 - val_loss: 0.2842 - val_accuracy: 0.8721\n",
            "Epoch 86/100\n",
            "32/32 [==============================] - 0s 2ms/step - loss: 0.3072 - accuracy: 0.8817 - val_loss: 0.2833 - val_accuracy: 0.8721\n",
            "Epoch 87/100\n",
            "32/32 [==============================] - 0s 2ms/step - loss: 0.3162 - accuracy: 0.8821 - val_loss: 0.2848 - val_accuracy: 0.8630\n",
            "Epoch 88/100\n",
            "32/32 [==============================] - 0s 2ms/step - loss: 0.3242 - accuracy: 0.8675 - val_loss: 0.2809 - val_accuracy: 0.8721\n",
            "Epoch 89/100\n",
            "32/32 [==============================] - 0s 2ms/step - loss: 0.2981 - accuracy: 0.8875 - val_loss: 0.2804 - val_accuracy: 0.8721\n",
            "Epoch 90/100\n",
            "32/32 [==============================] - 0s 2ms/step - loss: 0.2892 - accuracy: 0.8871 - val_loss: 0.2798 - val_accuracy: 0.8721\n",
            "Epoch 91/100\n",
            "32/32 [==============================] - 0s 2ms/step - loss: 0.2933 - accuracy: 0.8724 - val_loss: 0.2801 - val_accuracy: 0.8721\n",
            "Epoch 92/100\n",
            "32/32 [==============================] - 0s 2ms/step - loss: 0.2960 - accuracy: 0.8841 - val_loss: 0.2779 - val_accuracy: 0.8813\n",
            "Epoch 93/100\n",
            "32/32 [==============================] - 0s 2ms/step - loss: 0.2919 - accuracy: 0.8887 - val_loss: 0.2773 - val_accuracy: 0.8721\n",
            "Epoch 94/100\n",
            "32/32 [==============================] - 0s 2ms/step - loss: 0.2964 - accuracy: 0.8954 - val_loss: 0.2775 - val_accuracy: 0.8721\n",
            "Epoch 95/100\n",
            "32/32 [==============================] - 0s 2ms/step - loss: 0.3115 - accuracy: 0.8739 - val_loss: 0.2757 - val_accuracy: 0.8721\n",
            "Epoch 96/100\n",
            "32/32 [==============================] - 0s 2ms/step - loss: 0.3081 - accuracy: 0.8677 - val_loss: 0.2748 - val_accuracy: 0.8767\n",
            "Epoch 97/100\n",
            "32/32 [==============================] - 0s 2ms/step - loss: 0.3144 - accuracy: 0.8847 - val_loss: 0.2747 - val_accuracy: 0.8721\n",
            "Epoch 98/100\n",
            "32/32 [==============================] - 0s 2ms/step - loss: 0.2742 - accuracy: 0.8913 - val_loss: 0.2735 - val_accuracy: 0.8767\n",
            "Epoch 99/100\n",
            "32/32 [==============================] - 0s 2ms/step - loss: 0.2819 - accuracy: 0.8770 - val_loss: 0.2733 - val_accuracy: 0.8721\n",
            "Epoch 100/100\n",
            "32/32 [==============================] - 0s 2ms/step - loss: 0.2935 - accuracy: 0.8967 - val_loss: 0.2730 - val_accuracy: 0.8721\n"
          ],
          "name": "stdout"
        }
      ]
    },
    {
      "cell_type": "code",
      "metadata": {
        "colab": {
          "base_uri": "https://localhost:8080/"
        },
        "id": "uMe0JbdWAk5M",
        "outputId": "2dd9e8a4-7e4b-46d4-e74e-f5964d094a23"
      },
      "source": [
        "model.evaluate(X_test, Y_test)[1]"
      ],
      "execution_count": 28,
      "outputs": [
        {
          "output_type": "stream",
          "text": [
            "7/7 [==============================] - 0s 2ms/step - loss: 0.2667 - accuracy: 0.8813\n"
          ],
          "name": "stdout"
        },
        {
          "output_type": "execute_result",
          "data": {
            "text/plain": [
              "0.8812785148620605"
            ]
          },
          "metadata": {
            "tags": []
          },
          "execution_count": 28
        }
      ]
    },
    {
      "cell_type": "code",
      "metadata": {
        "colab": {
          "base_uri": "https://localhost:8080/",
          "height": 295
        },
        "id": "1kIsvRcFBNmH",
        "outputId": "ffc12556-2d9c-493e-ef05-dc1412ee9b3b"
      },
      "source": [
        "import matplotlib.pyplot as plt\n",
        "\n",
        "plt.plot(hist.history['loss'])\n",
        "plt.plot(hist.history['val_loss'])\n",
        "plt.title('Model Loss')\n",
        "plt.ylabel('Loss')\n",
        "plt.xlabel('Epoch')\n",
        "plt.legend(['Train', 'Val'], loc = 'upper right')\n",
        "plt.show()"
      ],
      "execution_count": 29,
      "outputs": [
        {
          "output_type": "display_data",
          "data": {
            "image/png": "[encoded data removed]",
            "text/plain": [
              "<Figure size 432x288 with 1 Axes>"
            ]
          },
          "metadata": {
            "tags": [],
            "needs_background": "light"
          }
        }
      ]
    },
    {
      "cell_type": "code",
      "metadata": {
        "colab": {
          "base_uri": "https://localhost:8080/",
          "height": 295
        },
        "id": "9CygFcXTBpvD",
        "outputId": "fcd1021f-7cd4-4178-d6ca-e5910d1a08a0"
      },
      "source": [
        "plt.plot(hist.history['accuracy'])\n",
        "plt.plot(hist.history['val_accuracy'])\n",
        "plt.title('Model Accuracy')\n",
        "plt.ylabel('Accuracy')\n",
        "plt.xlabel('Epoch')\n",
        "plt.legend(['Train', 'Val'], loc = 'lower right')\n",
        "plt.show()"
      ],
      "execution_count": 31,
      "outputs": [
        {
          "output_type": "display_data",
          "data": {
            "image/png": "[encoded data removed]",
            "text/plain": [
              "<Figure size 432x288 with 1 Axes>"
            ]
          },
          "metadata": {
            "tags": [],
            "needs_background": "light"
          }
        }
      ]
    },
    {
      "cell_type": "code",
      "metadata": {
        "id": "37Ta7To_LJtm"
      },
      "source": [
        ""
      ],
      "execution_count": null,
      "outputs": []
    },
    {
      "cell_type": "code",
      "metadata": {
        "id": "ingVGi8LCinV"
      },
      "source": [
        "#Over Fitting Model\n",
        "\n",
        "model_2 = Sequential([\n",
        "  Dense(1000, activation = 'relu', input_shape = (10,)),\n",
        "  Dense(1000, activation = 'relu'),\n",
        "  Dense(1000, activation = 'relu'),\n",
        "  Dense(1000, activation = 'relu'),\n",
        "  Dense(1, activation = 'sigmoid'),\n",
        "])\n",
        "\n",
        "model_2.compile(optimizer = 'adam', loss = 'binary_crossentropy', metrics = ['accuracy'])"
      ],
      "execution_count": 32,
      "outputs": []
    },
    {
      "cell_type": "code",
      "metadata": {
        "colab": {
          "base_uri": "https://localhost:8080/"
        },
        "id": "YlpqttCbK6Q6",
        "outputId": "01745583-536e-4f0a-a0d0-48ab7b229c7d"
      },
      "source": [
        "hist = model_2.fit(X_train, Y_train, batch_size = 32, epochs = 100, validation_data = (X_val, Y_val))"
      ],
      "execution_count": 33,
      "outputs": [
        {
          "output_type": "stream",
          "text": [
            "Epoch 1/100\n",
            "32/32 [==============================] - 3s 53ms/step - loss: 0.5522 - accuracy: 0.6955 - val_loss: 0.4026 - val_accuracy: 0.7991\n",
            "Epoch 2/100\n",
            "32/32 [==============================] - 1s 41ms/step - loss: 0.4071 - accuracy: 0.8244 - val_loss: 0.3479 - val_accuracy: 0.8721\n",
            "Epoch 3/100\n",
            "32/32 [==============================] - 1s 39ms/step - loss: 0.2912 - accuracy: 0.8950 - val_loss: 0.3213 - val_accuracy: 0.8767\n",
            "Epoch 4/100\n",
            "32/32 [==============================] - 1s 38ms/step - loss: 0.2890 - accuracy: 0.8906 - val_loss: 0.2868 - val_accuracy: 0.8813\n",
            "Epoch 5/100\n",
            "32/32 [==============================] - 1s 38ms/step - loss: 0.2787 - accuracy: 0.8855 - val_loss: 0.2843 - val_accuracy: 0.8904\n",
            "Epoch 6/100\n",
            "32/32 [==============================] - 1s 38ms/step - loss: 0.3290 - accuracy: 0.8709 - val_loss: 0.2901 - val_accuracy: 0.8904\n",
            "Epoch 7/100\n",
            "32/32 [==============================] - 1s 38ms/step - loss: 0.2562 - accuracy: 0.8996 - val_loss: 0.3488 - val_accuracy: 0.8676\n",
            "Epoch 8/100\n",
            "32/32 [==============================] - 1s 37ms/step - loss: 0.2616 - accuracy: 0.8953 - val_loss: 0.3272 - val_accuracy: 0.8676\n",
            "Epoch 9/100\n",
            "32/32 [==============================] - 1s 38ms/step - loss: 0.3337 - accuracy: 0.8525 - val_loss: 0.2728 - val_accuracy: 0.8950\n",
            "Epoch 10/100\n",
            "32/32 [==============================] - 1s 38ms/step - loss: 0.2567 - accuracy: 0.9085 - val_loss: 0.2999 - val_accuracy: 0.8858\n",
            "Epoch 11/100\n",
            "32/32 [==============================] - 1s 38ms/step - loss: 0.2183 - accuracy: 0.9154 - val_loss: 0.2438 - val_accuracy: 0.9087\n",
            "Epoch 12/100\n",
            "32/32 [==============================] - 1s 38ms/step - loss: 0.2488 - accuracy: 0.9013 - val_loss: 0.2553 - val_accuracy: 0.8950\n",
            "Epoch 13/100\n",
            "32/32 [==============================] - 1s 37ms/step - loss: 0.2613 - accuracy: 0.8917 - val_loss: 0.2289 - val_accuracy: 0.8950\n",
            "Epoch 14/100\n",
            "32/32 [==============================] - 1s 38ms/step - loss: 0.2087 - accuracy: 0.9092 - val_loss: 0.2544 - val_accuracy: 0.9087\n",
            "Epoch 15/100\n",
            "32/32 [==============================] - 1s 38ms/step - loss: 0.2345 - accuracy: 0.9064 - val_loss: 0.2277 - val_accuracy: 0.9132\n",
            "Epoch 16/100\n",
            "32/32 [==============================] - 1s 38ms/step - loss: 0.2298 - accuracy: 0.9140 - val_loss: 0.2540 - val_accuracy: 0.8950\n",
            "Epoch 17/100\n",
            "32/32 [==============================] - 1s 37ms/step - loss: 0.2816 - accuracy: 0.8567 - val_loss: 0.2244 - val_accuracy: 0.8995\n",
            "Epoch 18/100\n",
            "32/32 [==============================] - 1s 37ms/step - loss: 0.1926 - accuracy: 0.9085 - val_loss: 0.2227 - val_accuracy: 0.9132\n",
            "Epoch 19/100\n",
            "32/32 [==============================] - 1s 38ms/step - loss: 0.1903 - accuracy: 0.9206 - val_loss: 0.2699 - val_accuracy: 0.8950\n",
            "Epoch 20/100\n",
            "32/32 [==============================] - 1s 39ms/step - loss: 0.2159 - accuracy: 0.9025 - val_loss: 0.2193 - val_accuracy: 0.9041\n",
            "Epoch 21/100\n",
            "32/32 [==============================] - 1s 38ms/step - loss: 0.2082 - accuracy: 0.9177 - val_loss: 0.3818 - val_accuracy: 0.8219\n",
            "Epoch 22/100\n",
            "32/32 [==============================] - 1s 38ms/step - loss: 0.2463 - accuracy: 0.8917 - val_loss: 0.2609 - val_accuracy: 0.8995\n",
            "Epoch 23/100\n",
            "32/32 [==============================] - 1s 38ms/step - loss: 0.1995 - accuracy: 0.9108 - val_loss: 0.2329 - val_accuracy: 0.8950\n",
            "Epoch 24/100\n",
            "32/32 [==============================] - 1s 39ms/step - loss: 0.2073 - accuracy: 0.9106 - val_loss: 0.2792 - val_accuracy: 0.9041\n",
            "Epoch 25/100\n",
            "32/32 [==============================] - 1s 38ms/step - loss: 0.1729 - accuracy: 0.9376 - val_loss: 0.2705 - val_accuracy: 0.8858\n",
            "Epoch 26/100\n",
            "32/32 [==============================] - 1s 38ms/step - loss: 0.2145 - accuracy: 0.9134 - val_loss: 0.2618 - val_accuracy: 0.8995\n",
            "Epoch 27/100\n",
            "32/32 [==============================] - 1s 37ms/step - loss: 0.1707 - accuracy: 0.9269 - val_loss: 0.2566 - val_accuracy: 0.9087\n",
            "Epoch 28/100\n",
            "32/32 [==============================] - 1s 39ms/step - loss: 0.1789 - accuracy: 0.9285 - val_loss: 0.2785 - val_accuracy: 0.9041\n",
            "Epoch 29/100\n",
            "32/32 [==============================] - 1s 38ms/step - loss: 0.1951 - accuracy: 0.9163 - val_loss: 0.2554 - val_accuracy: 0.9041\n",
            "Epoch 30/100\n",
            "32/32 [==============================] - 1s 38ms/step - loss: 0.1985 - accuracy: 0.9062 - val_loss: 0.2969 - val_accuracy: 0.8858\n",
            "Epoch 31/100\n",
            "32/32 [==============================] - 1s 38ms/step - loss: 0.2543 - accuracy: 0.9030 - val_loss: 0.2715 - val_accuracy: 0.8858\n",
            "Epoch 32/100\n",
            "32/32 [==============================] - 1s 38ms/step - loss: 0.2449 - accuracy: 0.8977 - val_loss: 0.2614 - val_accuracy: 0.9041\n",
            "Epoch 33/100\n",
            "32/32 [==============================] - 1s 38ms/step - loss: 0.1713 - accuracy: 0.9361 - val_loss: 0.3197 - val_accuracy: 0.8858\n",
            "Epoch 34/100\n",
            "32/32 [==============================] - 1s 38ms/step - loss: 0.1785 - accuracy: 0.9137 - val_loss: 0.3225 - val_accuracy: 0.8950\n",
            "Epoch 35/100\n",
            "32/32 [==============================] - 1s 37ms/step - loss: 0.1551 - accuracy: 0.9255 - val_loss: 0.2657 - val_accuracy: 0.9041\n",
            "Epoch 36/100\n",
            "32/32 [==============================] - 1s 39ms/step - loss: 0.1501 - accuracy: 0.9484 - val_loss: 0.2364 - val_accuracy: 0.9041\n",
            "Epoch 37/100\n",
            "32/32 [==============================] - 1s 38ms/step - loss: 0.1793 - accuracy: 0.9374 - val_loss: 0.3310 - val_accuracy: 0.8950\n",
            "Epoch 38/100\n",
            "32/32 [==============================] - 1s 38ms/step - loss: 0.1945 - accuracy: 0.9145 - val_loss: 0.3523 - val_accuracy: 0.8995\n",
            "Epoch 39/100\n",
            "32/32 [==============================] - 1s 38ms/step - loss: 0.1397 - accuracy: 0.9488 - val_loss: 0.2724 - val_accuracy: 0.9087\n",
            "Epoch 40/100\n",
            "32/32 [==============================] - 1s 38ms/step - loss: 0.1749 - accuracy: 0.9329 - val_loss: 0.3505 - val_accuracy: 0.8721\n",
            "Epoch 41/100\n",
            "32/32 [==============================] - 1s 38ms/step - loss: 0.2156 - accuracy: 0.9111 - val_loss: 0.2525 - val_accuracy: 0.9087\n",
            "Epoch 42/100\n",
            "32/32 [==============================] - 1s 37ms/step - loss: 0.1472 - accuracy: 0.9402 - val_loss: 0.3076 - val_accuracy: 0.8813\n",
            "Epoch 43/100\n",
            "32/32 [==============================] - 1s 38ms/step - loss: 0.1676 - accuracy: 0.9290 - val_loss: 0.2598 - val_accuracy: 0.8858\n",
            "Epoch 44/100\n",
            "32/32 [==============================] - 1s 38ms/step - loss: 0.1576 - accuracy: 0.9410 - val_loss: 0.3609 - val_accuracy: 0.9041\n",
            "Epoch 45/100\n",
            "32/32 [==============================] - 1s 39ms/step - loss: 0.1522 - accuracy: 0.9441 - val_loss: 0.2604 - val_accuracy: 0.9041\n",
            "Epoch 46/100\n",
            "32/32 [==============================] - 1s 38ms/step - loss: 0.1706 - accuracy: 0.9358 - val_loss: 0.6089 - val_accuracy: 0.8630\n",
            "Epoch 47/100\n",
            "32/32 [==============================] - 1s 38ms/step - loss: 0.2116 - accuracy: 0.9197 - val_loss: 0.3190 - val_accuracy: 0.8950\n",
            "Epoch 48/100\n",
            "32/32 [==============================] - 1s 39ms/step - loss: 0.1679 - accuracy: 0.9283 - val_loss: 0.2863 - val_accuracy: 0.9132\n",
            "Epoch 49/100\n",
            "32/32 [==============================] - 1s 38ms/step - loss: 0.1566 - accuracy: 0.9378 - val_loss: 0.2696 - val_accuracy: 0.8995\n",
            "Epoch 50/100\n",
            "32/32 [==============================] - 1s 38ms/step - loss: 0.1486 - accuracy: 0.9401 - val_loss: 0.2922 - val_accuracy: 0.9087\n",
            "Epoch 51/100\n",
            "32/32 [==============================] - 1s 38ms/step - loss: 0.1379 - accuracy: 0.9467 - val_loss: 0.3890 - val_accuracy: 0.8950\n",
            "Epoch 52/100\n",
            "32/32 [==============================] - 1s 38ms/step - loss: 0.1421 - accuracy: 0.9424 - val_loss: 0.4411 - val_accuracy: 0.8995\n",
            "Epoch 53/100\n",
            "32/32 [==============================] - 1s 38ms/step - loss: 0.1515 - accuracy: 0.9416 - val_loss: 0.2368 - val_accuracy: 0.8904\n",
            "Epoch 54/100\n",
            "32/32 [==============================] - 1s 39ms/step - loss: 0.1732 - accuracy: 0.9346 - val_loss: 0.2799 - val_accuracy: 0.8995\n",
            "Epoch 55/100\n",
            "32/32 [==============================] - 1s 38ms/step - loss: 0.1544 - accuracy: 0.9396 - val_loss: 0.3129 - val_accuracy: 0.8950\n",
            "Epoch 56/100\n",
            "32/32 [==============================] - 1s 38ms/step - loss: 0.1681 - accuracy: 0.9313 - val_loss: 0.2847 - val_accuracy: 0.8904\n",
            "Epoch 57/100\n",
            "32/32 [==============================] - 1s 37ms/step - loss: 0.1441 - accuracy: 0.9303 - val_loss: 0.3410 - val_accuracy: 0.8858\n",
            "Epoch 58/100\n",
            "32/32 [==============================] - 1s 38ms/step - loss: 0.1567 - accuracy: 0.9324 - val_loss: 0.3689 - val_accuracy: 0.9041\n",
            "Epoch 59/100\n",
            "32/32 [==============================] - 1s 38ms/step - loss: 0.1256 - accuracy: 0.9451 - val_loss: 0.4368 - val_accuracy: 0.8950\n",
            "Epoch 60/100\n",
            "32/32 [==============================] - 1s 38ms/step - loss: 0.1634 - accuracy: 0.9343 - val_loss: 0.3999 - val_accuracy: 0.9041\n",
            "Epoch 61/100\n",
            "32/32 [==============================] - 1s 40ms/step - loss: 0.1443 - accuracy: 0.9434 - val_loss: 0.4017 - val_accuracy: 0.8950\n",
            "Epoch 62/100\n",
            "32/32 [==============================] - 1s 38ms/step - loss: 0.1093 - accuracy: 0.9590 - val_loss: 0.6055 - val_accuracy: 0.8858\n",
            "Epoch 63/100\n",
            "32/32 [==============================] - 1s 38ms/step - loss: 0.1426 - accuracy: 0.9318 - val_loss: 0.3298 - val_accuracy: 0.8904\n",
            "Epoch 64/100\n",
            "32/32 [==============================] - 1s 39ms/step - loss: 0.1605 - accuracy: 0.9339 - val_loss: 0.3543 - val_accuracy: 0.8904\n",
            "Epoch 65/100\n",
            "32/32 [==============================] - 1s 39ms/step - loss: 0.1343 - accuracy: 0.9507 - val_loss: 0.3398 - val_accuracy: 0.8858\n",
            "Epoch 66/100\n",
            "32/32 [==============================] - 1s 37ms/step - loss: 0.1504 - accuracy: 0.9415 - val_loss: 0.4726 - val_accuracy: 0.8904\n",
            "Epoch 67/100\n",
            "32/32 [==============================] - 1s 38ms/step - loss: 0.1418 - accuracy: 0.9454 - val_loss: 0.3701 - val_accuracy: 0.8904\n",
            "Epoch 68/100\n",
            "32/32 [==============================] - 1s 38ms/step - loss: 0.1608 - accuracy: 0.9378 - val_loss: 0.4246 - val_accuracy: 0.8858\n",
            "Epoch 69/100\n",
            "32/32 [==============================] - 1s 38ms/step - loss: 0.1352 - accuracy: 0.9511 - val_loss: 0.4448 - val_accuracy: 0.8995\n",
            "Epoch 70/100\n",
            "32/32 [==============================] - 1s 38ms/step - loss: 0.1305 - accuracy: 0.9466 - val_loss: 0.4919 - val_accuracy: 0.8721\n",
            "Epoch 71/100\n",
            "32/32 [==============================] - 1s 37ms/step - loss: 0.1210 - accuracy: 0.9618 - val_loss: 0.4587 - val_accuracy: 0.8904\n",
            "Epoch 72/100\n",
            "32/32 [==============================] - 1s 38ms/step - loss: 0.1182 - accuracy: 0.9586 - val_loss: 0.5723 - val_accuracy: 0.8813\n",
            "Epoch 73/100\n",
            "32/32 [==============================] - 1s 39ms/step - loss: 0.1151 - accuracy: 0.9551 - val_loss: 0.4905 - val_accuracy: 0.8904\n",
            "Epoch 74/100\n",
            "32/32 [==============================] - 1s 38ms/step - loss: 0.1697 - accuracy: 0.9357 - val_loss: 0.5184 - val_accuracy: 0.8676\n",
            "Epoch 75/100\n",
            "32/32 [==============================] - 1s 39ms/step - loss: 0.3011 - accuracy: 0.8833 - val_loss: 0.4312 - val_accuracy: 0.8995\n",
            "Epoch 76/100\n",
            "32/32 [==============================] - 1s 38ms/step - loss: 0.1573 - accuracy: 0.9378 - val_loss: 0.5294 - val_accuracy: 0.9041\n",
            "Epoch 77/100\n",
            "32/32 [==============================] - 1s 38ms/step - loss: 0.1287 - accuracy: 0.9477 - val_loss: 0.4235 - val_accuracy: 0.8904\n",
            "Epoch 78/100\n",
            "32/32 [==============================] - 1s 39ms/step - loss: 0.1175 - accuracy: 0.9463 - val_loss: 0.4441 - val_accuracy: 0.9087\n",
            "Epoch 79/100\n",
            "32/32 [==============================] - 1s 38ms/step - loss: 0.1281 - accuracy: 0.9464 - val_loss: 0.3897 - val_accuracy: 0.8995\n",
            "Epoch 80/100\n",
            "32/32 [==============================] - 1s 39ms/step - loss: 0.1073 - accuracy: 0.9572 - val_loss: 0.4487 - val_accuracy: 0.8721\n",
            "Epoch 81/100\n",
            "32/32 [==============================] - 1s 40ms/step - loss: 0.1263 - accuracy: 0.9561 - val_loss: 0.3731 - val_accuracy: 0.9132\n",
            "Epoch 82/100\n",
            "32/32 [==============================] - 1s 40ms/step - loss: 0.1078 - accuracy: 0.9597 - val_loss: 0.4089 - val_accuracy: 0.8950\n",
            "Epoch 83/100\n",
            "32/32 [==============================] - 1s 39ms/step - loss: 0.1086 - accuracy: 0.9571 - val_loss: 0.5408 - val_accuracy: 0.8858\n",
            "Epoch 84/100\n",
            "32/32 [==============================] - 1s 38ms/step - loss: 0.0797 - accuracy: 0.9730 - val_loss: 0.5784 - val_accuracy: 0.8995\n",
            "Epoch 85/100\n",
            "32/32 [==============================] - 1s 39ms/step - loss: 0.1067 - accuracy: 0.9571 - val_loss: 0.4747 - val_accuracy: 0.8950\n",
            "Epoch 86/100\n",
            "32/32 [==============================] - 1s 39ms/step - loss: 0.1110 - accuracy: 0.9593 - val_loss: 0.7505 - val_accuracy: 0.8813\n",
            "Epoch 87/100\n",
            "32/32 [==============================] - 1s 38ms/step - loss: 0.1571 - accuracy: 0.9408 - val_loss: 0.3619 - val_accuracy: 0.8767\n",
            "Epoch 88/100\n",
            "32/32 [==============================] - 1s 39ms/step - loss: 0.1627 - accuracy: 0.9383 - val_loss: 0.4347 - val_accuracy: 0.8767\n",
            "Epoch 89/100\n",
            "32/32 [==============================] - 1s 38ms/step - loss: 0.1240 - accuracy: 0.9609 - val_loss: 0.6650 - val_accuracy: 0.8950\n",
            "Epoch 90/100\n",
            "32/32 [==============================] - 1s 40ms/step - loss: 0.0908 - accuracy: 0.9645 - val_loss: 0.4624 - val_accuracy: 0.9132\n",
            "Epoch 91/100\n",
            "32/32 [==============================] - 1s 39ms/step - loss: 0.1067 - accuracy: 0.9640 - val_loss: 0.5970 - val_accuracy: 0.8995\n",
            "Epoch 92/100\n",
            "32/32 [==============================] - 1s 38ms/step - loss: 0.0935 - accuracy: 0.9621 - val_loss: 0.4667 - val_accuracy: 0.8904\n",
            "Epoch 93/100\n",
            "32/32 [==============================] - 1s 39ms/step - loss: 0.1112 - accuracy: 0.9677 - val_loss: 0.3662 - val_accuracy: 0.8493\n",
            "Epoch 94/100\n",
            "32/32 [==============================] - 1s 40ms/step - loss: 0.1756 - accuracy: 0.9115 - val_loss: 0.7004 - val_accuracy: 0.8721\n",
            "Epoch 95/100\n",
            "32/32 [==============================] - 1s 39ms/step - loss: 0.1353 - accuracy: 0.9523 - val_loss: 0.4701 - val_accuracy: 0.8858\n",
            "Epoch 96/100\n",
            "32/32 [==============================] - 1s 39ms/step - loss: 0.1516 - accuracy: 0.9411 - val_loss: 0.6279 - val_accuracy: 0.8904\n",
            "Epoch 97/100\n",
            "32/32 [==============================] - 1s 39ms/step - loss: 0.0968 - accuracy: 0.9681 - val_loss: 0.5920 - val_accuracy: 0.8858\n",
            "Epoch 98/100\n",
            "32/32 [==============================] - 1s 38ms/step - loss: 0.1170 - accuracy: 0.9536 - val_loss: 0.4335 - val_accuracy: 0.8721\n",
            "Epoch 99/100\n",
            "32/32 [==============================] - 1s 40ms/step - loss: 0.1256 - accuracy: 0.9595 - val_loss: 0.6459 - val_accuracy: 0.9041\n",
            "Epoch 100/100\n",
            "32/32 [==============================] - 1s 39ms/step - loss: 0.1094 - accuracy: 0.9598 - val_loss: 0.4766 - val_accuracy: 0.8813\n"
          ],
          "name": "stdout"
        }
      ]
    },
    {
      "cell_type": "code",
      "metadata": {
        "colab": {
          "base_uri": "https://localhost:8080/",
          "height": 295
        },
        "id": "CpKqEBHwLBVY",
        "outputId": "1825c871-185e-457f-d533-bb3349d578be"
      },
      "source": [
        "plt.plot(hist.history['loss'])\n",
        "plt.plot(hist.history['val_loss'])\n",
        "plt.title('Model Loss')\n",
        "plt.ylabel('Loss')\n",
        "plt.xlabel('Epoch')\n",
        "plt.legend(['Train', 'Val'], loc = 'upper right')\n",
        "plt.show()"
      ],
      "execution_count": 34,
      "outputs": [
        {
          "output_type": "display_data",
          "data": {
            "image/png": "[encoded data removed]",
            "text/plain": [
              "<Figure size 432x288 with 1 Axes>"
            ]
          },
          "metadata": {
            "tags": [],
            "needs_background": "light"
          }
        }
      ]
    },
    {
      "cell_type": "code",
      "metadata": {
        "colab": {
          "base_uri": "https://localhost:8080/",
          "height": 295
        },
        "id": "jBb7PXQELLGP",
        "outputId": "322eaef1-74ee-4bfb-dd85-e1eb66e30dff"
      },
      "source": [
        "plt.plot(hist.history['accuracy'])\n",
        "plt.plot(hist.history['val_accuracy'])\n",
        "plt.title('Model Accuracy')\n",
        "plt.ylabel('Accuracy')\n",
        "plt.xlabel('Epoch')\n",
        "plt.legend(['Train', 'Val'], loc = 'lower right')\n",
        "plt.show()"
      ],
      "execution_count": 35,
      "outputs": [
        {
          "output_type": "display_data",
          "data": {
            "image/png": "[encoded data removed]",
            "text/plain": [
              "<Figure size 432x288 with 1 Axes>"
            ]
          },
          "metadata": {
            "tags": [],
            "needs_background": "light"
          }
        }
      ]
    },
    {
      "cell_type": "code",
      "metadata": {
        "id": "fU6FErOOLVr7"
      },
      "source": [
        "#Model 3 with L2 Regularization and Dropout\n",
        "from keras.layers import Dropout\n",
        "from keras import regularizers\n",
        "\n",
        "model_3 = Sequential([\n",
        "    Dense(1000, activation='relu', kernel_regularizer=regularizers.l2(0.01), input_shape=(10,)),\n",
        "    Dropout(0.3),\n",
        "    Dense(1000, activation='relu', kernel_regularizer=regularizers.l2(0.01)),\n",
        "    Dropout(0.3),\n",
        "    Dense(1000, activation='relu', kernel_regularizer=regularizers.l2(0.01)),\n",
        "    Dropout(0.3),\n",
        "    Dense(1000, activation='relu', kernel_regularizer=regularizers.l2(0.01)),\n",
        "    Dropout(0.3),\n",
        "    Dense(1, activation='sigmoid', kernel_regularizer=regularizers.l2(0.01)),\n",
        "])\n",
        "\n",
        "model_3.compile(optimizer = 'adam', loss = 'binary_crossentropy', metrics = ['accuracy'])"
      ],
      "execution_count": 41,
      "outputs": []
    },
    {
      "cell_type": "code",
      "metadata": {
        "colab": {
          "base_uri": "https://localhost:8080/"
        },
        "id": "5kmrpVQLNABp",
        "outputId": "f451814e-a9b8-4526-914e-7ca2c479616e"
      },
      "source": [
        "hist_3 = model_3.fit(X_train, Y_train, batch_size=32, epochs=10, validation_data=(X_val, Y_val))"
      ],
      "execution_count": 42,
      "outputs": [
        {
          "output_type": "stream",
          "text": [
            "Epoch 1/10\n",
            "32/32 [==============================] - 4s 66ms/step - loss: 21.1085 - accuracy: 0.5798 - val_loss: 3.8803 - val_accuracy: 0.7123\n",
            "Epoch 2/10\n",
            "32/32 [==============================] - 2s 51ms/step - loss: 2.5062 - accuracy: 0.8057 - val_loss: 0.7151 - val_accuracy: 0.8082\n",
            "Epoch 3/10\n",
            "32/32 [==============================] - 2s 51ms/step - loss: 0.6174 - accuracy: 0.8583 - val_loss: 0.4937 - val_accuracy: 0.8721\n",
            "Epoch 4/10\n",
            "32/32 [==============================] - 2s 53ms/step - loss: 0.5107 - accuracy: 0.8754 - val_loss: 0.4782 - val_accuracy: 0.8721\n",
            "Epoch 5/10\n",
            "32/32 [==============================] - 2s 51ms/step - loss: 0.4832 - accuracy: 0.8724 - val_loss: 0.5196 - val_accuracy: 0.8630\n",
            "Epoch 6/10\n",
            "32/32 [==============================] - 2s 51ms/step - loss: 0.4902 - accuracy: 0.8858 - val_loss: 0.5185 - val_accuracy: 0.8493\n",
            "Epoch 7/10\n",
            "32/32 [==============================] - 2s 52ms/step - loss: 0.4812 - accuracy: 0.8804 - val_loss: 0.4626 - val_accuracy: 0.8858\n",
            "Epoch 8/10\n",
            "32/32 [==============================] - 2s 51ms/step - loss: 0.4888 - accuracy: 0.8633 - val_loss: 0.4527 - val_accuracy: 0.8813\n",
            "Epoch 9/10\n",
            "32/32 [==============================] - 2s 52ms/step - loss: 0.4713 - accuracy: 0.8623 - val_loss: 0.4308 - val_accuracy: 0.8858\n",
            "Epoch 10/10\n",
            "32/32 [==============================] - 2s 50ms/step - loss: 0.4790 - accuracy: 0.8754 - val_loss: 0.4309 - val_accuracy: 0.8858\n"
          ],
          "name": "stdout"
        }
      ]
    },
    {
      "cell_type": "code",
      "metadata": {
        "colab": {
          "base_uri": "https://localhost:8080/",
          "height": 295
        },
        "id": "Rl0fL7xWNLim",
        "outputId": "dfb3096c-cf77-4b1d-d9a2-3615114dc310"
      },
      "source": [
        "plt.plot(hist_3.history['loss'])\n",
        "plt.plot(hist_3.history['val_loss'])\n",
        "plt.title('Model Loss')\n",
        "plt.ylabel('Loss')\n",
        "plt.xlabel('Epoch')\n",
        "plt.legend(['Train', 'Val'], loc = 'upper right')\n",
        "plt.show()"
      ],
      "execution_count": 43,
      "outputs": [
        {
          "output_type": "display_data",
          "data": {
            "image/png": "[encoded data removed]",
            "text/plain": [
              "<Figure size 432x288 with 1 Axes>"
            ]
          },
          "metadata": {
            "tags": [],
            "needs_background": "light"
          }
        }
      ]
    },
    {
      "cell_type": "code",
      "metadata": {
        "colab": {
          "base_uri": "https://localhost:8080/",
          "height": 295
        },
        "id": "NkB0HhxuNVfH",
        "outputId": "5913d080-aa46-4e99-a815-4c94840303c0"
      },
      "source": [
        "plt.plot(hist_3.history['accuracy'])\n",
        "plt.plot(hist_3.history['val_accuracy'])\n",
        "plt.title('Model Accuracy')\n",
        "plt.ylabel('Accuracy')\n",
        "plt.xlabel('Epoch')\n",
        "plt.legend(['Train', 'Val'], loc = 'upper right')\n",
        "plt.show()"
      ],
      "execution_count": 44,
      "outputs": [
        {
          "output_type": "display_data",
          "data": {
            "image/png": "[encoded data removed]",
            "text/plain": [
              "<Figure size 432x288 with 1 Axes>"
            ]
          },
          "metadata": {
            "tags": [],
            "needs_background": "light"
          }
        }
      ]
    }
  ]
}